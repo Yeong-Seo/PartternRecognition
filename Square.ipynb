{
  "nbformat": 4,
  "nbformat_minor": 0,
  "metadata": {
    "colab": {
      "name": "Square.ipynb",
      "provenance": [],
      "authorship_tag": "ABX9TyMeDmPLy/OGwOBlw30VJAUn",
      "include_colab_link": true
    },
    "kernelspec": {
      "name": "python3",
      "display_name": "Python 3"
    }
  },
  "cells": [
    {
      "cell_type": "markdown",
      "metadata": {
        "id": "view-in-github",
        "colab_type": "text"
      },
      "source": [
        "<a href=\"https://colab.research.google.com/github/Yeong-Seo/PartternRecognition/blob/master/Square.ipynb\" target=\"_parent\"><img src=\"https://colab.research.google.com/assets/colab-badge.svg\" alt=\"Open In Colab\"/></a>"
      ]
    },
    {
      "cell_type": "code",
      "metadata": {
        "id": "ohuiSnIVJU1Q",
        "colab_type": "code",
        "colab": {}
      },
      "source": [
        ""
      ],
      "execution_count": 0,
      "outputs": []
    },
    {
      "cell_type": "markdown",
      "metadata": {
        "id": "vojP56woJmYF",
        "colab_type": "text"
      },
      "source": [
        "# Python on Colab\n",
        "* Frist time\n",
        "  * One\n",
        "  * Two\n",
        "  * Three\n",
        "* Second time\n",
        "\n"
      ]
    },
    {
      "cell_type": "code",
      "metadata": {
        "id": "BdYY1XuoJQpx",
        "colab_type": "code",
        "colab": {
          "base_uri": "https://localhost:8080/",
          "height": 35
        },
        "outputId": "06879e6a-8d09-49a5-b0ae-245e1d0a8dd2"
      },
      "source": [
        "a = 2\n",
        "b = 3\n",
        "c = a + b\n",
        "print(c)"
      ],
      "execution_count": 1,
      "outputs": [
        {
          "output_type": "stream",
          "text": [
            "5\n"
          ],
          "name": "stdout"
        }
      ]
    },
    {
      "cell_type": "code",
      "metadata": {
        "id": "d78MC_9cooyl",
        "colab_type": "code",
        "colab": {}
      },
      "source": [
        ""
      ],
      "execution_count": 0,
      "outputs": []
    },
    {
      "cell_type": "code",
      "metadata": {
        "id": "e5ComI9QKmqo",
        "colab_type": "code",
        "colab": {
          "base_uri": "https://localhost:8080/",
          "height": 269
        },
        "cellView": "code",
        "outputId": "77411cd4-cf53-4306-bd66-f70a99d990f4"
      },
      "source": [
        "#@title 기본 제목 텍스트\n",
        "# Pattern Recognition\n",
        "\n",
        "print(\"Start Square\\n\")\n",
        "\n",
        "for i in range(1, 11):\n",
        "    print(\"Square of {0}: {1}\".format(i, i**2))\n",
        "\n",
        "print(\"\\nFinish\")\n"
      ],
      "execution_count": 8,
      "outputs": [
        {
          "output_type": "stream",
          "text": [
            "Start Square\n",
            "\n",
            "Square of 1: 1\n",
            "Square of 2: 4\n",
            "Square of 3: 9\n",
            "Square of 4: 16\n",
            "Square of 5: 25\n",
            "Square of 6: 36\n",
            "Square of 7: 49\n",
            "Square of 8: 64\n",
            "Square of 9: 81\n",
            "Square of 10: 100\n",
            "\n",
            "Finish\n"
          ],
          "name": "stdout"
        }
      ]
    },
    {
      "cell_type": "code",
      "metadata": {
        "id": "lome10oKLRo8",
        "colab_type": "code",
        "colab": {}
      },
      "source": [
        ""
      ],
      "execution_count": 0,
      "outputs": []
    }
  ]
}